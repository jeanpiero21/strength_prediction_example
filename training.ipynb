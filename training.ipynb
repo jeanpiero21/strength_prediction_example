{
 "cells": [
  {
   "cell_type": "code",
   "execution_count": 17,
   "id": "4230351a",
   "metadata": {},
   "outputs": [],
   "source": [
    "#Load libraries\n",
    "import sklearn\n",
    "import pandas as pd \n",
    "import numpy as np\n",
    "\n",
    "from sklearn.model_selection import train_test_split\n",
    "from sklearn.metrics import mean_squared_error, r2_score\n",
    "from sklearn.linear_model import LinearRegression \n"
   ]
  },
  {
   "cell_type": "code",
   "execution_count": 18,
   "id": "8c5f70c8",
   "metadata": {},
   "outputs": [
    {
     "name": "stdout",
     "output_type": "stream",
     "text": [
      "Train size:  (824, 8) (824,)\n",
      "Test size:  (206, 8) (206,)\n"
     ]
    }
   ],
   "source": [
    "df = pd.read_csv(\"Concrete_Data.csv\")\n",
    "X = df.drop(\"ConcreteCompressiveStrength\", axis=1)\n",
    "y = df[\"ConcreteCompressiveStrength\"]\n",
    "\n",
    "x_train , x_test, y_train, y_test = train_test_split(X, y, test_size=0.2, random_state=42)\n",
    "print(\"Train size: \", x_train.shape, y_train.shape)\n",
    "print(\"Test size: \", x_test.shape, y_test.shape)"
   ]
  },
  {
   "cell_type": "code",
   "execution_count": 23,
   "id": "dd20d0d9",
   "metadata": {},
   "outputs": [
    {
     "name": "stdout",
     "output_type": "stream",
     "text": [
      "MSER 95.97094009110684\n"
     ]
    }
   ],
   "source": [
    "model = LinearRegression()\n",
    "\n",
    "model.fit(x_train, y_train)\n",
    "\n",
    "print(\"MSER\", mean_squared_error(y_test, model.predict(x_test)))"
   ]
  },
  {
   "cell_type": "code",
   "execution_count": null,
   "id": "a9c2680c",
   "metadata": {},
   "outputs": [],
   "source": [
    "import joblib\n",
    "joblib.dump(model, \"linear_regression_model.pkl\")\n",
    "print(\"Model saved!\")"
   ]
  }
 ],
 "metadata": {
  "kernelspec": {
   "display_name": "Python 3",
   "language": "python",
   "name": "python3"
  },
  "language_info": {
   "codemirror_mode": {
    "name": "ipython",
    "version": 3
   },
   "file_extension": ".py",
   "mimetype": "text/x-python",
   "name": "python",
   "nbconvert_exporter": "python",
   "pygments_lexer": "ipython3",
   "version": "3.13.7"
  }
 },
 "nbformat": 4,
 "nbformat_minor": 5
}
